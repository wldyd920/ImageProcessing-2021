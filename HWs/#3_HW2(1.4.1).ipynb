{
 "cells": [
  {
   "cell_type": "code",
   "execution_count": null,
   "metadata": {},
   "outputs": [],
   "source": [
    "# 동영상에서 특정색 trackbar로 설정하여 mask로 추출\n",
    "\n",
    "import cv2\n",
    "import numpy as np\n",
    "video_file = \"tracking1.avi\" # 동영상 파일 경로\n",
    "\n",
    "def nothing(x):\n",
    "    pass\n",
    "\n",
    "cap = cv2.VideoCapture(video_file) # 동영상 캡쳐 객체 생성  ---①\n",
    "if cap.isOpened():                 # 캡쳐 객체 초기화 확인\n",
    "    \n",
    "    # 트랙바 생성\n",
    "    cv2.namedWindow('color picker')\n",
    "    cv2.createTrackbar('Hue', 'color picker', 10, 170, nothing)\n",
    "    cv2.createTrackbar('Saturation', 'color picker', 0, 55, nothing)\n",
    "    cv2.createTrackbar('Value', 'color picker', 0, 55, nothing)\n",
    "    \n",
    "    \n",
    "    while True:\n",
    "        ret, img = cap.read()      # 다음 프레임 읽기      --- ②\n",
    "        if ret:                     # 프레임 읽기 정상\n",
    "            \n",
    "            # BGR->HSV로 변환\n",
    "            hsv = cv2.cvtColor(img, cv2.COLOR_BGR2HSV)\n",
    "                                   \n",
    "            # 트랙바에서 값 가져오기\n",
    "            h = cv2.getTrackbarPos('Hue', 'color picker')\n",
    "            s = cv2.getTrackbarPos('Saturation', 'color picker')\n",
    "            v = cv2.getTrackbarPos('Value', 'color picker')\n",
    "       \n",
    "            # hsv 영역의 range\n",
    "            lower_color = np.array([h-40, 100, 100])\n",
    "            upper_color = np.array([h+40, 200+s, 200+v])\n",
    "\n",
    "            #이미지에서 color영역\n",
    "            mask = cv2.inRange(hsv, lower_color, upper_color)\n",
    "\n",
    "            #bit연산자를 통해서 color영역만 남김.\n",
    "            res = cv2.bitwise_and(img, img, mask = mask)\n",
    "                                        \n",
    "            # 변환된 이미지 띄우기\n",
    "            # cv2.imshow('img', img)\n",
    "            # cv2.imshow('mask', mask)\n",
    "            cv2.imshow('res', res)\n",
    "                            \n",
    "            cv2.imshow(video_file, img) # 화면에 표시  --- ③\n",
    "            cv2.waitKey(25)            # 25ms 지연(40fps로 가정)   --- ④\n",
    "                            \n",
    "        else:                       # 다음 프레임 읽을 수 없음,\n",
    "            break                   # 재생 완료\n",
    "            \n",
    "else:\n",
    "    print(\"can't open video.\")      # 캡쳐 객체 초기화 실패\n",
    "cap.release()                       # 캡쳐 자원 반납\n",
    "cv2.destroyAllWindows()"
   ]
  }
 ],
 "metadata": {
  "kernelspec": {
   "display_name": "Python 3",
   "language": "python",
   "name": "python3"
  },
  "language_info": {
   "codemirror_mode": {
    "name": "ipython",
    "version": 3
   },
   "file_extension": ".py",
   "mimetype": "text/x-python",
   "name": "python",
   "nbconvert_exporter": "python",
   "pygments_lexer": "ipython3",
   "version": "3.8.5"
  }
 },
 "nbformat": 4,
 "nbformat_minor": 4
}
