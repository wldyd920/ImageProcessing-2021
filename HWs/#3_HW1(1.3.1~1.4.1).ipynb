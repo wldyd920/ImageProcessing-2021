{
 "cells": [
  {
   "cell_type": "code",
   "execution_count": 1,
   "metadata": {},
   "outputs": [],
   "source": [
    "# import\n",
    "\n",
    "import cv2\n",
    "import numpy as np\n",
    "from matplotlib import pyplot as plt"
   ]
  },
  {
   "cell_type": "code",
   "execution_count": 2,
   "metadata": {},
   "outputs": [],
   "source": [
    "# box selection + change color\n",
    "\n",
    "if __name__ == '__main__' :\n",
    "\n",
    "    # Read image\n",
    "    im = cv2.imread(\"sIMG_2177.jpg\")\n",
    "    # Select ROI\n",
    "    r = cv2.selectROI(im)\n",
    "    # Crop image\n",
    "    imCrop = im[int(r[1]):int(r[1]+r[3]), int(r[0]):int(r[0]+r[2])]\n",
    "    \n",
    "    # change color function\n",
    "    def change_color(x): \n",
    "        red = cv2.getTrackbarPos(\"R\", \"image\")\n",
    "        imCrop[:,:,2] = red\n",
    "        cv2.imshow(\"image\", im)\n",
    "\n",
    "    # make trackbar\n",
    "    cv2.namedWindow(\"image\")\n",
    "    cv2.createTrackbar(\"R\", \"image\", 0, 255, change_color)\n",
    "    \n",
    "    # Display cropped image\n",
    "    cv2.imshow(\"image\", im)\n",
    "    cv2.waitKey(0)\n",
    "    cv2.destroyAllWindows()"
   ]
  },
  {
   "cell_type": "code",
   "execution_count": null,
   "metadata": {},
   "outputs": [],
   "source": []
  }
 ],
 "metadata": {
  "kernelspec": {
   "display_name": "Python 3",
   "language": "python",
   "name": "python3"
  },
  "language_info": {
   "codemirror_mode": {
    "name": "ipython",
    "version": 3
   },
   "file_extension": ".py",
   "mimetype": "text/x-python",
   "name": "python",
   "nbconvert_exporter": "python",
   "pygments_lexer": "ipython3",
   "version": "3.8.5"
  }
 },
 "nbformat": 4,
 "nbformat_minor": 4
}
